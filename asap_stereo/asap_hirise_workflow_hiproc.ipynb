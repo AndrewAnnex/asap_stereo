{
 "cells": [
  {
   "cell_type": "code",
   "execution_count": null,
   "source": [
    "left  = None\n",
    "right = None\n",
    "config = None\n",
    "ref_dem = None\n",
    "max_disp = None\n",
    "dem_gsd = 1.0\n",
    "img_gsd = 0.25\n",
    "alignment_method = 'rigid'\n",
    "output_path = None\n",
    "downsample = None\n",
    "max_ba_iterations = 200\n",
    "gcps=''\n",
    "postfix = '_RED.NOPROJ.cub'\n",
    "step_kwargs = {}"
   ],
   "outputs": [],
   "metadata": {
    "tags": [
     "parameters"
    ],
    "pycharm": {
     "name": "#%%\n"
    }
   }
  },
  {
   "cell_type": "markdown",
   "source": [
    "#### Assumes HiProc has already been run on two images with final products in the currect working directory"
   ],
   "metadata": {
    "collapsed": false,
    "pycharm": {
     "name": "#%% md\n"
    }
   }
  },
  {
   "cell_type": "markdown",
   "source": [
    "# Stereo Config file contents:"
   ],
   "metadata": {
    "heading_collapsed": true,
    "pycharm": {
     "name": "#%% md\n"
    }
   }
  },
  {
   "cell_type": "code",
   "execution_count": null,
   "source": [
    "!cat {config}"
   ],
   "outputs": [],
   "metadata": {
    "hidden": true,
    "pycharm": {
     "name": "#%%\n"
    }
   }
  },
  {
   "cell_type": "markdown",
   "source": [
    "# Setup Steps"
   ],
   "metadata": {
    "heading_collapsed": true,
    "pycharm": {
     "name": "#%% md\n"
    }
   }
  },
  {
   "cell_type": "code",
   "execution_count": 2,
   "source": [
    "from IPython.display import Image\n",
    "from asap_stereo import asap\n",
    "import math\n",
    "from pathlib import Path"
   ],
   "outputs": [],
   "metadata": {
    "hidden": true,
    "pycharm": {
     "name": "#%%\n"
    }
   }
  },
  {
   "cell_type": "code",
   "execution_count": null,
   "source": [
    "default_output_dir = '~/auto_asap/hirise/'\n",
    "left, right = asap.HiRISE().get_hirise_order(left, right)\n",
    "if output_path == None:\n",
    "    output_path = default_output_dir + f'a_{left}_{right}'"
   ],
   "outputs": [],
   "metadata": {
    "hidden": true,
    "pycharm": {
     "name": "#%%\n"
    }
   }
  },
  {
   "cell_type": "code",
   "execution_count": null,
   "source": [
    "!mkdir -p {output_path}"
   ],
   "outputs": [],
   "metadata": {
    "hidden": true,
    "pycharm": {
     "name": "#%%\n"
    }
   }
  },
  {
   "cell_type": "code",
   "execution_count": null,
   "source": [
    "%cd {output_path}"
   ],
   "outputs": [],
   "metadata": {
    "hidden": true,
    "pycharm": {
     "name": "#%%\n"
    }
   }
  },
  {
   "cell_type": "markdown",
   "source": [
    "# Meta Data init for Scripts (step 2)"
   ],
   "metadata": {
    "heading_collapsed": true,
    "pycharm": {
     "name": "#%% md\n"
    }
   }
  },
  {
   "cell_type": "code",
   "execution_count": null,
   "outputs": [],
   "source": [
    "!echo \"{left}\" > pair.lis\n",
    "!echo \"{right}\" >> pair.lis\n",
    "!cat pair.lis"
   ],
   "metadata": {
    "collapsed": false,
    "pycharm": {
     "name": "#%%\n"
    }
   }
  },
  {
   "cell_type": "code",
   "execution_count": null,
   "source": [
    "!asap hirise step-2"
   ],
   "outputs": [],
   "metadata": {
    "hidden": true,
    "pycharm": {
     "name": "#%%\n"
    }
   }
  },
  {
   "cell_type": "markdown",
   "source": [
    "# Move Files around (Step 4)"
   ],
   "metadata": {
    "heading_collapsed": true,
    "pycharm": {
     "name": "#%% md\n"
    }
   }
  },
  {
   "cell_type": "code",
   "execution_count": null,
   "source": [
    "!asap hirise step-4 --postfix {postfix}"
   ],
   "outputs": [],
   "metadata": {
    "hidden": true,
    "pycharm": {
     "name": "#%%\n"
    }
   }
  },
  {
   "cell_type": "markdown",
   "source": [
    "# Stereo Quality Report"
   ],
   "metadata": {
    "collapsed": false,
    "pycharm": {
     "name": "#%% md\n"
    }
   }
  },
  {
   "cell_type": "code",
   "execution_count": null,
   "source": [
    "qual_report = asap.CommonSteps().get_stereo_quality_report(f'{left}_{right}/{left}{postfix}', f'{left}_{right}/{right}{postfix}')\n",
    "print(qual_report)"
   ],
   "outputs": [],
   "metadata": {
    "collapsed": false,
    "pycharm": {
     "name": "#%%\n"
    }
   }
  },
  {
   "cell_type": "markdown",
   "source": [
    "# Downsample images if requested"
   ],
   "metadata": {
    "collapsed": false,
    "pycharm": {
     "name": "#%% md\n"
    }
   }
  },
  {
   "cell_type": "code",
   "execution_count": null,
   "source": [
    "if downsample:\n",
    "    true_img_gsd_left = asap.CommonSteps().get_image_gsd(f'{left}_{right}/{left}{postfix}')\n",
    "    true_img_gsd_right = asap.CommonSteps().get_image_gsd(f'{left}_{right}/{right}{postfix}')\n",
    "    # take conservative approach, pick worst image GSD\n",
    "    res_gsd = max(true_img_gsd_left, true_img_gsd_right)\n",
    "    # this is because rescale in ISIS does not update GSD in metadata\n",
    "    asap.CommonSteps().rescale_and_overwrite(factor=downsample, postfix=postfix)\n",
    "    img_gsd = math.ceil(res_gsd)*downsample\n",
    "    dem_gsd = 4*img_gsd\n",
    "    print('new img gsd', img_gsd)\n",
    "    print('new dem gsd', dem_gsd)\n"
   ],
   "outputs": [],
   "metadata": {
    "collapsed": false,
    "pycharm": {
     "name": "#%%\n"
    }
   }
  },
  {
   "cell_type": "markdown",
   "source": [
    "# Bundle Adjust (Step 6)"
   ],
   "metadata": {
    "heading_collapsed": true,
    "pycharm": {
     "name": "#%% md\n"
    }
   }
  },
  {
   "cell_type": "code",
   "execution_count": null,
   "source": [
    "!asap hirise step-6 {gcps} --max-iterations {max_ba_iterations} {asap.kwarg_parse(step_kwargs, 'step_6')} --postfix {postfix} 2>&1 | tee -i -a ./6_bundle_adjust.log ./full_log.log"
   ],
   "outputs": [],
   "metadata": {
    "hidden": true,
    "pycharm": {
     "name": "#%%\n"
    }
   }
  },
  {
   "cell_type": "markdown",
   "source": [
    "# Parallel Stereo p1 (Step 7)"
   ],
   "metadata": {
    "heading_collapsed": true,
    "pycharm": {
     "name": "#%% md\n"
    }
   }
  },
  {
   "cell_type": "code",
   "execution_count": null,
   "source": [
    "!asap hirise step-7 {config} {asap.kwarg_parse(step_kwargs, 'step_7')} --postfix {postfix} 2>&1 | tee -i -a ./7_parellel_stereo_1.log ./full_log.log"
   ],
   "outputs": [],
   "metadata": {
    "hidden": true,
    "pycharm": {
     "name": "#%%\n"
    }
   }
  },
  {
   "cell_type": "markdown",
   "source": [
    "# Parallel Stereo p2 (Step 8)"
   ],
   "metadata": {
    "heading_collapsed": true,
    "pycharm": {
     "name": "#%% md\n"
    }
   }
  },
  {
   "cell_type": "code",
   "execution_count": null,
   "source": [
    "!asap hirise step-8 {config} {asap.kwarg_parse(step_kwargs, 'step_8')} --postfix {postfix} 2>&1 | tee -i -a ./8_parellel_stereo_2.log ./full_log.log"
   ],
   "outputs": [],
   "metadata": {
    "hidden": true,
    "pycharm": {
     "name": "#%%\n"
    }
   }
  },
  {
   "cell_type": "markdown",
   "source": [
    "# Good Pixel Preview"
   ],
   "metadata": {
    "heading_collapsed": true,
    "pycharm": {
     "name": "#%% md\n"
    }
   }
  },
  {
   "cell_type": "code",
   "execution_count": null,
   "source": [
    "both = f'{left}_{right}'\n",
    "img  = f'./{both}/results_ba/{both}_ba-GoodPixelMap.tif'\n",
    "out  = img.replace('.tif', '.png')"
   ],
   "outputs": [],
   "metadata": {
    "hidden": true,
    "pycharm": {
     "name": "#%%\n"
    }
   }
  },
  {
   "cell_type": "code",
   "execution_count": null,
   "source": [
    "!gdal_translate -of PNG -co worldfile=yes {img} {out}"
   ],
   "outputs": [],
   "metadata": {
    "hidden": true,
    "pycharm": {
     "name": "#%%\n"
    }
   }
  },
  {
   "cell_type": "code",
   "execution_count": null,
   "source": [
    "Image(filename=out, width=800)"
   ],
   "outputs": [],
   "metadata": {
    "hidden": true,
    "pycharm": {
     "name": "#%%\n"
    }
   }
  },
  {
   "cell_type": "markdown",
   "source": [
    "# Produce Previews (Step 9)"
   ],
   "metadata": {
    "collapsed": false,
    "pycharm": {
     "name": "#%% md\n"
    }
   }
  },
  {
   "cell_type": "code",
   "execution_count": null,
   "outputs": [],
   "source": [
    "!asap hirise step-9 --mpp {dem_gsd*2} {asap.kwarg_parse(step_kwargs, 'step_9')} --postfix {postfix} 2>&1 | tee -i -a ./9_previews.log ./full_log.log"
   ],
   "metadata": {
    "collapsed": false,
    "pycharm": {
     "name": "#%%\n"
    }
   }
  },
  {
   "cell_type": "markdown",
   "source": [
    "## Hillshade of low res DEM"
   ],
   "metadata": {
    "collapsed": false,
    "pycharm": {
     "name": "#%% md\n"
    }
   }
  },
  {
   "cell_type": "code",
   "execution_count": null,
   "source": [
    "both = f'{left}_{right}'\n",
    "img = str(next(Path(f'./{both}/results_ba/dem/').glob(f'{both}_*DEM.tif')))\n",
    "out = img.replace('.tif','_h.png')"
   ],
   "outputs": [],
   "metadata": {
    "collapsed": false,
    "pycharm": {
     "name": "#%%\n"
    }
   }
  },
  {
   "cell_type": "code",
   "execution_count": null,
   "source": [
    "!gdaldem hillshade {img} {out}"
   ],
   "outputs": [],
   "metadata": {
    "collapsed": false,
    "pycharm": {
     "name": "#%%\n"
    }
   }
  },
  {
   "cell_type": "code",
   "execution_count": null,
   "source": [
    "Image(filename=out, width=800)"
   ],
   "outputs": [],
   "metadata": {
    "collapsed": false,
    "pycharm": {
     "name": "#%%\n"
    }
   }
  },
  {
   "cell_type": "markdown",
   "source": [
    "# Hillshade based initial transform to reference DEM"
   ],
   "metadata": {
    "heading_collapsed": true,
    "pycharm": {
     "name": "#%% md\n"
    }
   }
  },
  {
   "cell_type": "code",
   "execution_count": null,
   "source": [
    "!asap hirise pre-step-10 {ref_dem} --alignment-method {alignment_method} {asap.kwarg_parse(step_kwargs, 'pre_step_10')} --postfix {postfix} 2>&1 | tee -i -a ./10_pre_hillshade_align.log ./full_log.log"
   ],
   "outputs": [],
   "metadata": {
    "hidden": true,
    "pycharm": {
     "name": "#%%\n"
    }
   }
  },
  {
   "cell_type": "markdown",
   "source": [
    "### Visualize the ipmatch debug image\n",
    "to see how good the hill shade align was, if it's bad modify step 10 below to not use the initial transform.\n"
   ],
   "metadata": {
    "collapsed": false,
    "pycharm": {
     "name": "#%% md\n"
    }
   }
  },
  {
   "cell_type": "code",
   "execution_count": null,
   "source": [
    "!gdal_translate -of PNG ./*/results_ba/hillshade_align/out-reference_hillshade__source_hillshade.tif ./ipd.png"
   ],
   "outputs": [],
   "metadata": {
    "collapsed": false,
    "pycharm": {
     "name": "#%%\n"
    }
   }
  },
  {
   "cell_type": "code",
   "execution_count": null,
   "source": [
    "Image('./ipd.png', width=800)"
   ],
   "outputs": [],
   "metadata": {
    "collapsed": false,
    "pycharm": {
     "name": "#%%\n"
    }
   }
  },
  {
   "cell_type": "markdown",
   "source": [
    "# Point Cloud align using initial transform from hillshade (Step 10)\n"
   ],
   "metadata": {
    "heading_collapsed": true,
    "pycharm": {
     "name": "#%% md\n"
    }
   }
  },
  {
   "cell_type": "code",
   "execution_count": null,
   "source": [
    "!asap hirise step-10 {max_disp} {ref_dem} --initial-transform hillshade_align/out-transform.txt {asap.kwarg_parse(step_kwargs, 'step_10')} --postfix {postfix} 2>&1 | tee -i -a ./10_pc_align.log ./full_log.log"
   ],
   "outputs": [],
   "metadata": {
    "hidden": true,
    "pycharm": {
     "name": "#%%\n"
    }
   }
  },
  {
   "cell_type": "markdown",
   "source": [
    "# Produce final aligned DEM, ortho, normalized image, error image (Step 11)"
   ],
   "metadata": {
    "heading_collapsed": true,
    "pycharm": {
     "name": "#%% md\n"
    }
   }
  },
  {
   "cell_type": "code",
   "execution_count": null,
   "source": [
    "!asap hirise step-11 --mpp {dem_gsd} {asap.kwarg_parse(step_kwargs, 'step_11')}  --postfix {postfix} 2>&1 | tee -i -a ./11_dems_orthos.log ./full_log.log"
   ],
   "outputs": [],
   "metadata": {
    "hidden": true,
    "pycharm": {
     "name": "#%%\n"
    }
   }
  },
  {
   "cell_type": "markdown",
   "source": [
    "# Adjust to Geoid (Step 12)"
   ],
   "metadata": {
    "heading_collapsed": true,
    "pycharm": {
     "name": "#%% md\n"
    }
   }
  },
  {
   "cell_type": "code",
   "execution_count": null,
   "source": [
    "!asap hirise step-12 {asap.kwarg_parse(step_kwargs, 'step_12')} 2>&1 | tee -i -a ./12_geoid_adjustment.log ./full_log.log"
   ],
   "outputs": [],
   "metadata": {
    "hidden": true,
    "pycharm": {
     "name": "#%%\n"
    }
   }
  },
  {
   "cell_type": "markdown",
   "source": [
    "# Make full-res Ortho image (Step 13)"
   ],
   "metadata": {
    "heading_collapsed": true,
    "pycharm": {
     "name": "#%% md\n"
    }
   }
  },
  {
   "cell_type": "code",
   "execution_count": null,
   "source": [
    "!asap hirise step-11 --mpp {img_gsd} --just-ortho True {asap.kwarg_parse(step_kwargs, 'step_13')} --postfix {postfix} 2>&1 | tee -i -a ./13_img_full_ortho.log ./full_log.log"
   ],
   "outputs": [],
   "metadata": {
    "hidden": true,
    "pycharm": {
     "name": "#%%\n"
    }
   }
  },
  {
   "cell_type": "markdown",
   "source": [
    "## Hillshade of full res geoid adjusted DEM"
   ],
   "metadata": {
    "collapsed": false,
    "pycharm": {
     "name": "#%% md\n"
    }
   }
  },
  {
   "cell_type": "code",
   "execution_count": null,
   "source": [
    "both = f'{left}_{right}'\n",
    "img = str(next(Path(f'./{both}/results_ba/dem_align/').glob(f'{both}*DEM-adj.tif')))\n",
    "out = img.replace('.tif','_h.png')"
   ],
   "outputs": [],
   "metadata": {
    "collapsed": false,
    "pycharm": {
     "name": "#%%\n"
    }
   }
  },
  {
   "cell_type": "code",
   "execution_count": null,
   "source": [
    "!gdaldem hillshade {img} {out}"
   ],
   "outputs": [],
   "metadata": {
    "collapsed": false,
    "pycharm": {
     "name": "#%%\n"
    }
   }
  },
  {
   "cell_type": "code",
   "execution_count": null,
   "source": [
    "Image(filename=out, width=800)\n"
   ],
   "outputs": [],
   "metadata": {
    "collapsed": false,
    "pycharm": {
     "name": "#%%\n"
    }
   }
  }
 ],
 "metadata": {
  "celltoolbar": "Tags",
  "kernelspec": {
   "display_name": "Python 3",
   "language": "python",
   "name": "python3"
  },
  "language_info": {
   "codemirror_mode": {
    "name": "ipython",
    "version": 3
   },
   "file_extension": ".py",
   "mimetype": "text/x-python",
   "name": "python",
   "nbconvert_exporter": "python",
   "pygments_lexer": "ipython3",
   "version": "3.7.3"
  }
 },
 "nbformat": 4,
 "nbformat_minor": 2
}