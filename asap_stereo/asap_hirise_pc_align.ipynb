{
 "cells": [
  {
   "cell_type": "code",
   "execution_count": null,
   "metadata": {
    "tags": [
     "parameters"
    ]
   },
   "outputs": [],
   "source": [
    "refdem  = None\n",
    "maxdisp = 500\n",
    "demgsd  = 1.0\n",
    "imggsd  = 0.25\n",
    "alignment_method = 'rigid'"
   ]
  },
  {
   "cell_type": "markdown",
   "metadata": {
    "heading_collapsed": true
   },
   "source": [
    "# Hillshade based initial transform to reference DEM "
   ]
  },
  {
   "cell_type": "code",
   "execution_count": null,
   "metadata": {
    "hidden": true,
    "scrolled": false
   },
   "outputs": [],
   "source": [
    "!asap hirise pre-step-ten {refdem} --alignment-method {alignment_method} 2>&1 | tee -i -a ./10_pre_hillshade_align.log ./full_log.log"
   ]
  },
  {
   "cell_type": "markdown",
   "source": [
    "### Visualize the ipmatch debug image\n",
    "to see how good the hill shade align was, if it's bad modify step 10 below to not use the initial transform."
   ],
   "metadata": {
    "collapsed": false,
    "pycharm": {
     "name": "#%% md\n"
    }
   }
  },
  {
   "cell_type": "code",
   "execution_count": null,
   "outputs": [],
   "source": [
    "from IPython.display import Image"
   ],
   "metadata": {
    "collapsed": false,
    "pycharm": {
     "name": "#%%\n"
    }
   }
  },
  {
   "cell_type": "code",
   "execution_count": null,
   "outputs": [],
   "source": [
    "!convert ./*/results_ba/hillshade_align/out-reference__source.tif ./ipd.png"
   ],
   "metadata": {
    "collapsed": false,
    "pycharm": {
     "name": "#%%\n"
    }
   }
  },
  {
   "cell_type": "code",
   "execution_count": null,
   "outputs": [],
   "source": [
    "Image('./ipd.png')"
   ],
   "metadata": {
    "collapsed": false,
    "pycharm": {
     "name": "#%%\n"
    }
   }
  },
  {
   "cell_type": "markdown",
   "metadata": {
    "heading_collapsed": true
   },
   "source": [
    "# Point Cloud align using initial transform from hillshade (Step 10)"
   ]
  },
  {
   "cell_type": "code",
   "execution_count": null,
   "metadata": {
    "hidden": true
   },
   "outputs": [],
   "source": [
    "!asap hirise step-ten {maxdisp} {refdem} --initial-transform hillshade_align/out-transform.txt 2>&1 | tee -i -a ./10_pc_align.log ./full_log.log"
   ]
  },
  {
   "cell_type": "markdown",
   "metadata": {
    "heading_collapsed": true
   },
   "source": [
    "# Produce final aligned DEM, ortho, normalized image, error image (Step 11)"
   ]
  },
  {
   "cell_type": "code",
   "execution_count": null,
   "metadata": {
    "hidden": true
   },
   "outputs": [],
   "source": [
    "!asap hirise step-eleven {demgsd} 2>&1 | tee -i -a ./11_dems_orthos.log ./full_log.log"
   ]
  },
  {
   "cell_type": "markdown",
   "metadata": {
    "heading_collapsed": true
   },
   "source": [
    "# Adjust to Geoid (Step 12)"
   ]
  },
  {
   "cell_type": "code",
   "execution_count": null,
   "metadata": {
    "hidden": true
   },
   "outputs": [],
   "source": [
    "!asap hirise step-twelve 2>&1 | tee -i -a ./12_geoid_adjustment.log ./full_log.log"
   ]
  },
  {
   "cell_type": "markdown",
   "metadata": {
    "heading_collapsed": true
   },
   "source": [
    "# Make full-res Ortho image (Step 13)"
   ]
  },
  {
   "cell_type": "code",
   "execution_count": null,
   "metadata": {
    "hidden": true
   },
   "outputs": [],
   "source": [
    "!asap hirise step-eleven {imggsd} --just-ortho True 2>&1 | tee -i -a ./13_img_full_ortho.log ./full_log.log"
   ]
  }
 ],
 "metadata": {
  "celltoolbar": "Tags",
  "kernelspec": {
   "display_name": "Python 3",
   "language": "python",
   "name": "python3"
  },
  "language_info": {
   "codemirror_mode": {
    "name": "ipython",
    "version": 3
   },
   "file_extension": ".py",
   "mimetype": "text/x-python",
   "name": "python",
   "nbconvert_exporter": "python",
   "pygments_lexer": "ipython3",
   "version": "3.7.3"
  }
 },
 "nbformat": 4,
 "nbformat_minor": 2
}