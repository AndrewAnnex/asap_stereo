{
 "cells": [
  {
   "cell_type": "code",
   "execution_count": null,
   "metadata": {
    "tags": [
     "parameters"
    ]
   },
   "outputs": [],
   "source": [
    "left  = None\n",
    "right = None\n",
    "config = None\n",
    "ref_dem = None\n",
    "maxdisp = None\n",
    "dem_gsd = 1.0\n",
    "img_gsd = 0.25\n",
    "alignment_method = 'rigid'\n",
    "output_path = None\n",
    "downsample = None"
   ]
  },
  {
   "cell_type": "markdown",
   "metadata": {
    "heading_collapsed": true
   },
   "source": [
    "# Stereo Config file contents:"
   ]
  },
  {
   "cell_type": "code",
   "execution_count": null,
   "metadata": {
    "hidden": true
   },
   "outputs": [],
   "source": [
    "!cat {config}"
   ]
  },
  {
   "cell_type": "markdown",
   "metadata": {
    "heading_collapsed": true
   },
   "source": [
    "# Setup Steps"
   ]
  },
  {
   "cell_type": "code",
   "execution_count": 2,
   "metadata": {
    "hidden": true
   },
   "outputs": [],
   "source": [
    "from IPython.display import Image\n",
    "from asap_stereo import asap\n",
    "import math"
   ]
  },
  {
   "cell_type": "code",
   "execution_count": null,
   "metadata": {
    "hidden": true
   },
   "outputs": [],
   "source": [
    "default_output_dir = '~/auto_asap/hirise/'\n",
    "left, right = asap.HiRISE().get_hirise_order(left, right)\n",
    "if output_path == None:\n",
    "    output_path = default_output_dir + f'a_{left}_{right}'"
   ]
  },
  {
   "cell_type": "code",
   "execution_count": null,
   "metadata": {
    "hidden": true
   },
   "outputs": [],
   "source": [
    "!mkdir -p {output_path}"
   ]
  },
  {
   "cell_type": "code",
   "execution_count": null,
   "metadata": {
    "hidden": true
   },
   "outputs": [],
   "source": [
    "%cd {output_path}"
   ]
  },
  {
   "cell_type": "markdown",
   "metadata": {
    "heading_collapsed": true
   },
   "source": [
    "# Download images (step 1)"
   ]
  },
  {
   "cell_type": "code",
   "execution_count": null,
   "metadata": {
    "hidden": true
   },
   "outputs": [],
   "source": [
    "!asap hirise step-one {left} {right} 2>&1 | tee -i -a ./1_download.log ./full_log.log"
   ]
  },
  {
   "cell_type": "markdown",
   "metadata": {
    "heading_collapsed": true
   },
   "source": [
    "# Meta Data init for Scripts (step 2)"
   ]
  },
  {
   "cell_type": "code",
   "execution_count": null,
   "metadata": {
    "hidden": true
   },
   "outputs": [],
   "source": [
    "!asap hirise step-two"
   ]
  },
  {
   "cell_type": "markdown",
   "metadata": {
    "heading_collapsed": true
   },
   "source": [
    "# Hiedr2mosaic (step 3)"
   ]
  },
  {
   "cell_type": "code",
   "execution_count": null,
   "metadata": {
    "hidden": true
   },
   "outputs": [],
   "source": [
    "!asap hirise step-three 2>&1 | tee -i -a ./3_mosaic.log ./full_log.log"
   ]
  },
  {
   "cell_type": "markdown",
   "metadata": {
    "heading_collapsed": true
   },
   "source": [
    "# Move Files around (Step 4)"
   ]
  },
  {
   "cell_type": "code",
   "execution_count": null,
   "metadata": {
    "hidden": true
   },
   "outputs": [],
   "source": [
    "!asap hirise step-four "
   ]
  },
  {
   "cell_type": "markdown",
   "source": [
    "# Stereo Quality Report"
   ],
   "metadata": {
    "collapsed": false
   }
  },
  {
   "cell_type": "code",
   "execution_count": null,
   "outputs": [],
   "source": [
    "qual_report = asap.CommonSteps().get_stereo_quality_report(f'{left}_{right}/{left}.mos_hijitreged.norm.cub', f'{left}_{right}/{right}.mos_hijitreged.norm.cub')\n",
    "print(qual_report)"
   ],
   "metadata": {
    "collapsed": false,
    "pycharm": {
     "name": "#%%\n"
    }
   }
  },
  {
   "cell_type": "markdown",
   "source": [
    "# Downsample images if requested"
   ],
   "metadata": {
    "collapsed": false
   }
  },
  {
   "cell_type": "code",
   "execution_count": null,
   "outputs": [],
   "source": [
    "if downsample:\n",
    "    true_img_gsd_left = asap.CommonSteps().get_image_gsd(f'{left}_{right}/{left}.mos_hijitreged.norm.cub')\n",
    "    true_img_gsd_right = asap.CommonSteps().get_image_gsd(f'{left}_{right}/{right}.mos_hijitreged.norm.cub')\n",
    "    # take conservative approach, pick worst image GSD\n",
    "    res_gsd = max(true_img_gsd_left, true_img_gsd_right)\n",
    "    # this is because rescale in ISIS does not update GSD in metadata\n",
    "    asap.CommonSteps().rescale_and_overwrite(factor=downsample, postfix='.mos_hijitreged.norm.cub')\n",
    "    img_gsd = math.ceil(res_gsd)*downsample\n",
    "    dem_gsd = 4*img_gsd\n",
    "    print('new img gsd', img_gsd)\n",
    "    print('new dem gsd', dem_gsd)\n"
   ],
   "metadata": {
    "collapsed": false,
    "pycharm": {
     "name": "#%%\n"
    }
   }
  },
  {
   "cell_type": "markdown",
   "metadata": {
    "heading_collapsed": true
   },
   "source": [
    "# Cam2map4Stereo (Step 5)"
   ]
  },
  {
   "cell_type": "code",
   "execution_count": null,
   "metadata": {
    "hidden": true
   },
   "outputs": [],
   "source": [
    "!asap hirise step-five 2>&1 | tee -i -a ./5_cam2map.log ./full_log.log"
   ]
  },
  {
   "cell_type": "markdown",
   "metadata": {
    "heading_collapsed": true
   },
   "source": [
    "# Bundle Adjust (Step 6)"
   ]
  },
  {
   "cell_type": "code",
   "execution_count": null,
   "metadata": {
    "hidden": true
   },
   "outputs": [],
   "source": [
    "!asap hirise step-six --max-iterations 50 2>&1 | tee -i -a ./6_bundle_adjust.log ./full_log.log"
   ]
  },
  {
   "cell_type": "markdown",
   "metadata": {
    "heading_collapsed": true
   },
   "source": [
    "# Parallel Stereo p1 (Step 7)"
   ]
  },
  {
   "cell_type": "code",
   "execution_count": null,
   "metadata": {
    "hidden": true
   },
   "outputs": [],
   "source": [
    "!asap hirise step-seven {config} 2>&1 | tee -i -a ./7_parellel_stereo_1.log ./full_log.log"
   ]
  },
  {
   "cell_type": "markdown",
   "metadata": {
    "heading_collapsed": true
   },
   "source": [
    "# Parallel Stereo p2 (Step 8)"
   ]
  },
  {
   "cell_type": "code",
   "execution_count": null,
   "metadata": {
    "hidden": true
   },
   "outputs": [],
   "source": [
    "!asap hirise step-eight {config} 2>&1 | tee -i -a ./8_parellel_stereo_2.log ./full_log.log"
   ]
  },
  {
   "cell_type": "markdown",
   "metadata": {
    "heading_collapsed": true
   },
   "source": [
    "# Produce Previews (Step 9)"
   ]
  },
  {
   "cell_type": "code",
   "execution_count": null,
   "metadata": {
    "hidden": true
   },
   "outputs": [],
   "source": [
    "!asap hirise step-nine --mpp {img_gsd*2} 2>&1 | tee -i -a ./9_previews.log ./full_log.log"
   ]
  },
  {
   "cell_type": "markdown",
   "metadata": {
    "heading_collapsed": true
   },
   "source": [
    "# Good Pixel Preview"
   ]
  },
  {
   "cell_type": "code",
   "execution_count": null,
   "metadata": {
    "hidden": true
   },
   "outputs": [],
   "source": [
    "both = f'{left}_{right}'\n",
    "img  = f'./{both}/results/{both}-GoodPixelMap.tif'\n",
    "out  = img.replace('.tif', '.png')"
   ]
  },
  {
   "cell_type": "code",
   "execution_count": null,
   "metadata": {
    "hidden": true
   },
   "outputs": [],
   "source": [
    "!gdal_translate -of PNG -co worldfile=yes {img} {out}"
   ]
  },
  {
   "cell_type": "code",
   "execution_count": null,
   "metadata": {
    "hidden": true
   },
   "outputs": [],
   "source": [
    "Image(filename=out)"
   ]
  },
  {
   "cell_type": "markdown",
   "metadata": {
    "heading_collapsed": true
   },
   "source": [
    "# Hillshade based initial transform to reference DEM"
   ]
  },
  {
   "cell_type": "code",
   "execution_count": null,
   "metadata": {
    "hidden": true
   },
   "outputs": [],
   "source": [
    "!asap hirise pre-step-ten {ref_dem} --alignment-method {alignment_method} 2>&1 | tee -i -a ./10_pre_hillshade_align.log ./full_log.log"
   ]
  },
  {
   "cell_type": "markdown",
   "source": [
    "### Visualize the ipmatch debug image\n",
    "to see how good the hill shade align was, if it's bad modify step 10 below to not use the initial transform.\n",
    "\n",
    "todo: convert below to use gdal_translate"
   ],
   "metadata": {
    "collapsed": false
   }
  },
  {
   "cell_type": "code",
   "execution_count": null,
   "outputs": [],
   "source": [
    "!convert ./*/results_ba/hillshade_align/out-reference__source.tif ./ipd.png"
   ],
   "metadata": {
    "collapsed": false,
    "pycharm": {
     "name": "#%%\n"
    }
   }
  },
  {
   "cell_type": "code",
   "execution_count": null,
   "outputs": [],
   "source": [
    "Image('./ipd.png')"
   ],
   "metadata": {
    "collapsed": false,
    "pycharm": {
     "name": "#%%\n"
    }
   }
  },
  {
   "cell_type": "markdown",
   "metadata": {
    "heading_collapsed": true
   },
   "source": [
    "# Point Cloud align using initial transform from hillshade (Step 10)\n"
   ]
  },
  {
   "cell_type": "code",
   "execution_count": null,
   "metadata": {
    "hidden": true
   },
   "outputs": [],
   "source": [
    "!asap hirise step-ten {max_disp} {ref_dem} --initial-transform hillshade_align/out-transform.txt 2>&1 | tee -i -a ./10_pc_align.log ./full_log.log"
   ]
  },
  {
   "cell_type": "markdown",
   "metadata": {
    "heading_collapsed": true
   },
   "source": [
    "# Produce final aligned DEM, ortho, normalized image, error image (Step 11)"
   ]
  },
  {
   "cell_type": "code",
   "execution_count": null,
   "metadata": {
    "hidden": true
   },
   "outputs": [],
   "source": [
    "!asap hirise step-eleven --mpp {demgsd} 2>&1 | tee -i -a ./11_dems_orthos.log ./full_log.log"
   ]
  },
  {
   "cell_type": "markdown",
   "metadata": {
    "heading_collapsed": true
   },
   "source": [
    "# Adjust to Geoid (Step 12)"
   ]
  },
  {
   "cell_type": "code",
   "execution_count": null,
   "metadata": {
    "hidden": true
   },
   "outputs": [],
   "source": [
    "!asap hirise step-twelve 2>&1 | tee -i -a ./12_geoid_adjustment.log ./full_log.log"
   ]
  },
  {
   "cell_type": "markdown",
   "metadata": {
    "heading_collapsed": true
   },
   "source": [
    "# Make full-res Ortho image (Step 13)"
   ]
  },
  {
   "cell_type": "code",
   "execution_count": null,
   "metadata": {
    "hidden": true
   },
   "outputs": [],
   "source": [
    "!asap hirise step-eleven --mpp {imggsd} --just-ortho True 2>&1 | tee -i -a ./13_img_full_ortho.log ./full_log.log"
   ]
  }
 ],
 "metadata": {
  "celltoolbar": "Tags",
  "kernelspec": {
   "display_name": "Python 3",
   "language": "python",
   "name": "python3"
  },
  "language_info": {
   "codemirror_mode": {
    "name": "ipython",
    "version": 3
   },
   "file_extension": ".py",
   "mimetype": "text/x-python",
   "name": "python",
   "nbconvert_exporter": "python",
   "pygments_lexer": "ipython3",
   "version": "3.7.3"
  }
 },
 "nbformat": 4,
 "nbformat_minor": 2
}