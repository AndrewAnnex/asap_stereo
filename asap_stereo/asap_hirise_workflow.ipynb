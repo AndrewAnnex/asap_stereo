{
 "cells": [
  {
   "cell_type": "code",
   "execution_count": null,
   "metadata": {
    "tags": [
     "parameters"
    ]
   },
   "outputs": [],
   "source": [
    "left  = None\n",
    "right = None\n",
    "config = None\n",
    "ref_dem = None\n",
    "maxdisp = None\n",
    "dem_gsd = 1.0\n",
    "img_gsd = 0.25\n",
    "alignment_method = 'rigid'\n",
    "output_path = None\n",
    "downsample = None\n",
    "max_ba_iterations = 50"
   ]
  },
  {
   "cell_type": "markdown",
   "metadata": {
    "heading_collapsed": true
   },
   "source": [
    "# Stereo Config file contents:"
   ]
  },
  {
   "cell_type": "code",
   "execution_count": null,
   "metadata": {
    "hidden": true
   },
   "outputs": [],
   "source": [
    "!cat {config}"
   ]
  },
  {
   "cell_type": "markdown",
   "metadata": {
    "heading_collapsed": true
   },
   "source": [
    "# Setup Steps"
   ]
  },
  {
   "cell_type": "code",
   "execution_count": 2,
   "metadata": {
    "hidden": true
   },
   "outputs": [],
   "source": [
    "from IPython.display import Image\n",
    "from asap_stereo import asap\n",
    "import math\n",
    "from pathlib import Path"
   ]
  },
  {
   "cell_type": "code",
   "execution_count": null,
   "metadata": {
    "hidden": true
   },
   "outputs": [],
   "source": [
    "default_output_dir = '~/auto_asap/hirise/'\n",
    "left, right = asap.HiRISE().get_hirise_order(left, right)\n",
    "if output_path == None:\n",
    "    output_path = default_output_dir + f'a_{left}_{right}'"
   ]
  },
  {
   "cell_type": "code",
   "execution_count": null,
   "metadata": {
    "hidden": true
   },
   "outputs": [],
   "source": [
    "!mkdir -p {output_path}"
   ]
  },
  {
   "cell_type": "code",
   "execution_count": null,
   "metadata": {
    "hidden": true
   },
   "outputs": [],
   "source": [
    "%cd {output_path}"
   ]
  },
  {
   "cell_type": "markdown",
   "metadata": {
    "heading_collapsed": true
   },
   "source": [
    "# Download images (step 1)"
   ]
  },
  {
   "cell_type": "code",
   "execution_count": null,
   "metadata": {
    "hidden": true
   },
   "outputs": [],
   "source": [
    "!asap hirise step-one {left} {right} 2>&1 | tee -i -a ./1_download.log ./full_log.log"
   ]
  },
  {
   "cell_type": "markdown",
   "metadata": {
    "heading_collapsed": true
   },
   "source": [
    "# Meta Data init for Scripts (step 2)"
   ]
  },
  {
   "cell_type": "code",
   "execution_count": null,
   "metadata": {
    "hidden": true
   },
   "outputs": [],
   "source": [
    "!asap hirise step-two"
   ]
  },
  {
   "cell_type": "markdown",
   "metadata": {
    "heading_collapsed": true
   },
   "source": [
    "# Hiedr2mosaic (step 3)"
   ]
  },
  {
   "cell_type": "code",
   "execution_count": null,
   "metadata": {
    "hidden": true
   },
   "outputs": [],
   "source": [
    "!asap hirise step-three 2>&1 | tee -i -a ./3_mosaic.log ./full_log.log"
   ]
  },
  {
   "cell_type": "markdown",
   "metadata": {
    "heading_collapsed": true
   },
   "source": [
    "# Move Files around (Step 4)"
   ]
  },
  {
   "cell_type": "code",
   "execution_count": null,
   "metadata": {
    "hidden": true
   },
   "outputs": [],
   "source": [
    "!asap hirise step-four "
   ]
  },
  {
   "cell_type": "markdown",
   "source": [
    "# Stereo Quality Report"
   ],
   "metadata": {
    "collapsed": false
   }
  },
  {
   "cell_type": "code",
   "execution_count": null,
   "outputs": [],
   "source": [
    "qual_report = asap.CommonSteps().get_stereo_quality_report(f'{left}_{right}/{left}_RED.mos_hijitreged.norm.cub', f'{left}_{right}/{right}_RED.mos_hijitreged.norm.cub')\n",
    "print(qual_report)"
   ],
   "metadata": {
    "collapsed": false,
    "pycharm": {
     "name": "#%%\n"
    }
   }
  },
  {
   "cell_type": "markdown",
   "source": [
    "# Downsample images if requested"
   ],
   "metadata": {
    "collapsed": false
   }
  },
  {
   "cell_type": "code",
   "execution_count": null,
   "outputs": [],
   "source": [
    "if downsample:\n",
    "    true_img_gsd_left = asap.CommonSteps().get_image_gsd(f'{left}_{right}/{left}_RED.mos_hijitreged.norm.cub')\n",
    "    true_img_gsd_right = asap.CommonSteps().get_image_gsd(f'{left}_{right}/{right}_RED.mos_hijitreged.norm.cub')\n",
    "    # take conservative approach, pick worst image GSD\n",
    "    res_gsd = max(true_img_gsd_left, true_img_gsd_right)\n",
    "    # this is because rescale in ISIS does not update GSD in metadata\n",
    "    asap.CommonSteps().rescale_and_overwrite(factor=downsample, postfix='_RED.mos_hijitreged.norm.cub')\n",
    "    img_gsd = math.ceil(res_gsd)*downsample\n",
    "    dem_gsd = 4*img_gsd\n",
    "    print('new img gsd', img_gsd)\n",
    "    print('new dem gsd', dem_gsd)\n"
   ],
   "metadata": {
    "collapsed": false,
    "pycharm": {
     "name": "#%%\n"
    }
   }
  },
  {
   "cell_type": "markdown",
   "metadata": {
    "heading_collapsed": true
   },
   "source": [
    "# Cam2map4Stereo (Step 5)"
   ]
  },
  {
   "cell_type": "code",
   "execution_count": null,
   "metadata": {
    "hidden": true
   },
   "outputs": [],
   "source": [
    "!asap hirise step-five --gsd {img_gsd if downsample else None} 2>&1 | tee -i -a ./5_cam2map.log ./full_log.log"
   ]
  },
  {
   "cell_type": "markdown",
   "metadata": {
    "heading_collapsed": true
   },
   "source": [
    "# Bundle Adjust (Step 6)"
   ]
  },
  {
   "cell_type": "code",
   "execution_count": null,
   "metadata": {
    "hidden": true
   },
   "outputs": [],
   "source": [
    "!asap hirise step-six --max-iterations {max_ba_iterations} 2>&1 | tee -i -a ./6_bundle_adjust.log ./full_log.log"
   ]
  },
  {
   "cell_type": "markdown",
   "metadata": {
    "heading_collapsed": true
   },
   "source": [
    "# Parallel Stereo p1 (Step 7)"
   ]
  },
  {
   "cell_type": "code",
   "execution_count": null,
   "metadata": {
    "hidden": true
   },
   "outputs": [],
   "source": [
    "!asap hirise step-seven {config} 2>&1 | tee -i -a ./7_parellel_stereo_1.log ./full_log.log"
   ]
  },
  {
   "cell_type": "markdown",
   "metadata": {
    "heading_collapsed": true
   },
   "source": [
    "# Parallel Stereo p2 (Step 8)"
   ]
  },
  {
   "cell_type": "code",
   "execution_count": null,
   "metadata": {
    "hidden": true
   },
   "outputs": [],
   "source": [
    "!asap hirise step-eight {config} 2>&1 | tee -i -a ./8_parellel_stereo_2.log ./full_log.log"
   ]
  },
  {
   "cell_type": "markdown",
   "metadata": {
    "heading_collapsed": true
   },
   "source": [
    "# Produce Previews (Step 9)"
   ]
  },
  {
   "cell_type": "code",
   "execution_count": null,
   "metadata": {
    "hidden": true
   },
   "outputs": [],
   "source": [
    "!asap hirise step-nine --mpp {img_gsd*2} 2>&1 | tee -i -a ./9_previews.log ./full_log.log"
   ]
  },
  {
   "cell_type": "markdown",
   "metadata": {
    "heading_collapsed": true
   },
   "source": [
    "# Good Pixel Preview"
   ]
  },
  {
   "cell_type": "code",
   "execution_count": null,
   "metadata": {
    "hidden": true
   },
   "outputs": [],
   "source": [
    "both = f'{left}_{right}'\n",
    "img  = f'./{both}/results_ba/{both}_ba-GoodPixelMap.tif'\n",
    "out  = img.replace('.tif', '.png')"
   ]
  },
  {
   "cell_type": "code",
   "execution_count": null,
   "metadata": {
    "hidden": true
   },
   "outputs": [],
   "source": [
    "!gdal_translate -of PNG -co worldfile=yes {img} {out}"
   ]
  },
  {
   "cell_type": "code",
   "execution_count": null,
   "metadata": {
    "hidden": true
   },
   "outputs": [],
   "source": [
    "Image(filename=out)"
   ]
  },
  {
   "cell_type": "markdown",
   "source": [
    "## Hillshade of low res DEM"
   ],
   "metadata": {
    "collapsed": false
   }
  },
  {
   "cell_type": "code",
   "execution_count": null,
   "outputs": [],
   "source": [
    "both = f'{left}_{right}'\n",
    "img = str(next(Path(f'./{both}/results_ba/dem/').glob(f'{both}_*DEM.tif')))\n",
    "out = img.replace('.tif','_h.png')"
   ],
   "metadata": {
    "collapsed": false,
    "pycharm": {
     "name": "#%%\n"
    }
   }
  },
  {
   "cell_type": "code",
   "execution_count": null,
   "outputs": [],
   "source": [
    "!gdaldem hillshade {img} {out}"
   ],
   "metadata": {
    "collapsed": false,
    "pycharm": {
     "name": "#%%\n"
    }
   }
  },
  {
   "cell_type": "code",
   "execution_count": null,
   "outputs": [],
   "source": [
    "Image(filename=out)"
   ],
   "metadata": {
    "collapsed": false,
    "pycharm": {
     "name": "#%%\n"
    }
   }
  },
  {
   "cell_type": "markdown",
   "metadata": {
    "heading_collapsed": true
   },
   "source": [
    "# Hillshade based initial transform to reference DEM"
   ]
  },
  {
   "cell_type": "code",
   "execution_count": null,
   "metadata": {
    "hidden": true
   },
   "outputs": [],
   "source": [
    "!asap hirise pre-step-ten {ref_dem} --alignment-method {alignment_method} 2>&1 | tee -i -a ./10_pre_hillshade_align.log ./full_log.log"
   ]
  },
  {
   "cell_type": "markdown",
   "source": [
    "### Visualize the ipmatch debug image\n",
    "to see how good the hill shade align was, if it's bad modify step 10 below to not use the initial transform.\n"
   ],
   "metadata": {
    "collapsed": false
   }
  },
  {
   "cell_type": "code",
   "execution_count": null,
   "outputs": [],
   "source": [
    "!gdal_translate -of PNG ./*/results_ba/hillshade_align/out-reference__source.tif ./ipd.png"
   ],
   "metadata": {
    "collapsed": false,
    "pycharm": {
     "name": "#%%\n"
    }
   }
  },
  {
   "cell_type": "code",
   "execution_count": null,
   "outputs": [],
   "source": [
    "Image('./ipd.png')"
   ],
   "metadata": {
    "collapsed": false,
    "pycharm": {
     "name": "#%%\n"
    }
   }
  },
  {
   "cell_type": "markdown",
   "metadata": {
    "heading_collapsed": true
   },
   "source": [
    "# Point Cloud align using initial transform from hillshade (Step 10)\n"
   ]
  },
  {
   "cell_type": "code",
   "execution_count": null,
   "metadata": {
    "hidden": true
   },
   "outputs": [],
   "source": [
    "!asap hirise step-ten {max_disp} {ref_dem} --initial-transform hillshade_align/out-transform.txt 2>&1 | tee -i -a ./10_pc_align.log ./full_log.log"
   ]
  },
  {
   "cell_type": "markdown",
   "metadata": {
    "heading_collapsed": true
   },
   "source": [
    "# Produce final aligned DEM, ortho, normalized image, error image (Step 11)"
   ]
  },
  {
   "cell_type": "code",
   "execution_count": null,
   "metadata": {
    "hidden": true
   },
   "outputs": [],
   "source": [
    "!asap hirise step-eleven --mpp {dem_gsd} 2>&1 | tee -i -a ./11_dems_orthos.log ./full_log.log"
   ]
  },
  {
   "cell_type": "markdown",
   "metadata": {
    "heading_collapsed": true
   },
   "source": [
    "# Adjust to Geoid (Step 12)"
   ]
  },
  {
   "cell_type": "code",
   "execution_count": null,
   "metadata": {
    "hidden": true
   },
   "outputs": [],
   "source": [
    "!asap hirise step-twelve 2>&1 | tee -i -a ./12_geoid_adjustment.log ./full_log.log"
   ]
  },
  {
   "cell_type": "markdown",
   "metadata": {
    "heading_collapsed": true
   },
   "source": [
    "# Make full-res Ortho image (Step 13)"
   ]
  },
  {
   "cell_type": "code",
   "execution_count": null,
   "metadata": {
    "hidden": true
   },
   "outputs": [],
   "source": [
    "!asap hirise step-eleven --mpp {img_gsd} --just-ortho True 2>&1 | tee -i -a ./13_img_full_ortho.log ./full_log.log"
   ]
  },
  {
   "cell_type": "markdown",
   "source": [
    "## Hillshade of full res geoid adjusted DEM"
   ],
   "metadata": {
    "collapsed": false
   }
  },
  {
   "cell_type": "code",
   "execution_count": null,
   "outputs": [],
   "source": [
    "both = f'{left}_{right}'\n",
    "img = str(next(Path(f'./{both}/results_ba/dem_align/').glob(f'{both}*DEM-adj.tif')))\n",
    "out = img.replace('.tif','_h.png')"
   ],
   "metadata": {
    "collapsed": false,
    "pycharm": {
     "name": "#%%\n"
    }
   }
  },
  {
   "cell_type": "code",
   "execution_count": null,
   "outputs": [],
   "source": [
    "!gdaldem hillshade {img} {out}"
   ],
   "metadata": {
    "collapsed": false,
    "pycharm": {
     "name": "#%%\n"
    }
   }
  },
  {
   "cell_type": "code",
   "execution_count": null,
   "outputs": [],
   "source": [
    "Image(filename=out)"
   ],
   "metadata": {
    "collapsed": false,
    "pycharm": {
     "name": "#%%\n"
    }
   }
  }
 ],
 "metadata": {
  "celltoolbar": "Tags",
  "kernelspec": {
   "display_name": "Python 3",
   "language": "python",
   "name": "python3"
  },
  "language_info": {
   "codemirror_mode": {
    "name": "ipython",
    "version": 3
   },
   "file_extension": ".py",
   "mimetype": "text/x-python",
   "name": "python",
   "nbconvert_exporter": "python",
   "pygments_lexer": "ipython3",
   "version": "3.7.3"
  }
 },
 "nbformat": 4,
 "nbformat_minor": 2
}